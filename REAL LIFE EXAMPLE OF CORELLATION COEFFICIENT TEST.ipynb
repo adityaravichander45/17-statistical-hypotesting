{
 "cells": [
  {
   "cell_type": "markdown",
   "id": "a2838625",
   "metadata": {},
   "source": [
    "# 15-1-24"
   ]
  },
  {
   "cell_type": "markdown",
   "id": "9b5e1767",
   "metadata": {},
   "source": [
    "# REAL LIFE EXAMPLE OF MEASURING THE MAXIMUM AND MINIMUM OF WEATHER FORECAST OF 3RD WEEK OF JANUARY 2024"
   ]
  },
  {
   "cell_type": "code",
   "execution_count": 1,
   "id": "1d4929df",
   "metadata": {},
   "outputs": [],
   "source": [
    "max_wk3temp_jan=[16,15,17,17,18,17,17,17]\n",
    "min_wk3temp_jan=[7,7,8,7,7,7,7,7]"
   ]
  },
  {
   "cell_type": "markdown",
   "id": "83c03179",
   "metadata": {},
   "source": [
    "# SPEARMANNS RANK OF CORRELATION CO-EFFICIENT"
   ]
  },
  {
   "cell_type": "code",
   "execution_count": 2,
   "id": "e524cfbb",
   "metadata": {},
   "outputs": [],
   "source": [
    "from scipy.stats import spearmanr"
   ]
  },
  {
   "cell_type": "code",
   "execution_count": 3,
   "id": "2854ad7a",
   "metadata": {},
   "outputs": [],
   "source": [
    "statSPR,pSPR=spearmanr(max_wk3temp_jan,min_wk3temp_jan)"
   ]
  },
  {
   "cell_type": "code",
   "execution_count": 4,
   "id": "d5c21f40",
   "metadata": {},
   "outputs": [
    {
     "name": "stdout",
     "output_type": "stream",
     "text": [
      "statSPR=0.094,pSPR=0.824\n"
     ]
    }
   ],
   "source": [
    "print('statSPR=%.3f,pSPR=%.3f'%(statSPR,pSPR))"
   ]
  },
  {
   "cell_type": "code",
   "execution_count": 5,
   "id": "82950695",
   "metadata": {},
   "outputs": [
    {
     "name": "stdout",
     "output_type": "stream",
     "text": [
      "probability is independent\n"
     ]
    }
   ],
   "source": [
    "if pSPR>0.05:\n",
    "    print('probability is independent')\n",
    "else:\n",
    "    print('probability is dependent')"
   ]
  },
  {
   "cell_type": "markdown",
   "id": "8846f12a",
   "metadata": {},
   "source": [
    "# PEARSONS CORELATION COEFFICIENT RANK"
   ]
  },
  {
   "cell_type": "code",
   "execution_count": 6,
   "id": "d436cfbe",
   "metadata": {},
   "outputs": [],
   "source": [
    "from scipy.stats import pearsonr"
   ]
  },
  {
   "cell_type": "code",
   "execution_count": 7,
   "id": "2a911df4",
   "metadata": {},
   "outputs": [],
   "source": [
    "statPCC,pPCC=pearsonr(max_wk3temp_jan,min_wk3temp_jan)"
   ]
  },
  {
   "cell_type": "code",
   "execution_count": 8,
   "id": "349ff625",
   "metadata": {},
   "outputs": [
    {
     "name": "stdout",
     "output_type": "stream",
     "text": [
      "statPCC=0.114,pPCC=0.788\n"
     ]
    }
   ],
   "source": [
    "print('statPCC=%.3f,pPCC=%.3f'%(statPCC,pPCC))"
   ]
  },
  {
   "cell_type": "code",
   "execution_count": 9,
   "id": "3fdf8ec7",
   "metadata": {},
   "outputs": [
    {
     "name": "stdout",
     "output_type": "stream",
     "text": [
      "probability is independent\n"
     ]
    }
   ],
   "source": [
    "if pPCC>0.05:\n",
    "    print('probability is independent')\n",
    "else:\n",
    "    print('probability is dependent')"
   ]
  },
  {
   "cell_type": "markdown",
   "id": "4a1fa209",
   "metadata": {},
   "source": [
    "# kendalls rank corelation coefficient"
   ]
  },
  {
   "cell_type": "code",
   "execution_count": 10,
   "id": "47fba4bf",
   "metadata": {},
   "outputs": [],
   "source": [
    "from scipy.stats import kendalltau"
   ]
  },
  {
   "cell_type": "code",
   "execution_count": 11,
   "id": "b1d78b37",
   "metadata": {},
   "outputs": [],
   "source": [
    "statken,pken=kendalltau(max_wk3temp_jan,min_wk3temp_jan)"
   ]
  },
  {
   "cell_type": "code",
   "execution_count": 12,
   "id": "2d427cac",
   "metadata": {},
   "outputs": [
    {
     "name": "stdout",
     "output_type": "stream",
     "text": [
      "statken=0.089,pken=0.803\n"
     ]
    }
   ],
   "source": [
    "print('statken=%.3f,pken=%.3f'%(statken,pken))"
   ]
  },
  {
   "cell_type": "code",
   "execution_count": 13,
   "id": "b8dc216b",
   "metadata": {},
   "outputs": [
    {
     "name": "stdout",
     "output_type": "stream",
     "text": [
      "probability is independent\n"
     ]
    }
   ],
   "source": [
    "if pken>0.05:\n",
    "    print('probability is independent')\n",
    "else:\n",
    "    print('probability is dependent')"
   ]
  },
  {
   "cell_type": "markdown",
   "id": "f97ec9e3",
   "metadata": {},
   "source": [
    "#  chi -square test"
   ]
  },
  {
   "cell_type": "code",
   "execution_count": 14,
   "id": "1f19fe56",
   "metadata": {},
   "outputs": [],
   "source": [
    "from scipy.stats import chi2_contingency"
   ]
  },
  {
   "cell_type": "code",
   "execution_count": 15,
   "id": "a759a242",
   "metadata": {},
   "outputs": [],
   "source": [
    "matrix=[[3,6,9],[12,15,18],[21,24,27]]"
   ]
  },
  {
   "cell_type": "code",
   "execution_count": 16,
   "id": "108202e3",
   "metadata": {},
   "outputs": [],
   "source": [
    "stat_chi,p_chi,dof_chi,expected_chi=chi2_contingency(matrix)"
   ]
  },
  {
   "cell_type": "code",
   "execution_count": 17,
   "id": "f57017cf",
   "metadata": {},
   "outputs": [
    {
     "name": "stdout",
     "output_type": "stream",
     "text": [
      "stat_chi=1.406,p_chi=0.843\n"
     ]
    }
   ],
   "source": [
    "print('stat_chi=%.3f,p_chi=%.3f'%(stat_chi,p_chi))"
   ]
  },
  {
   "cell_type": "code",
   "execution_count": 18,
   "id": "9e75ef95",
   "metadata": {},
   "outputs": [
    {
     "name": "stdout",
     "output_type": "stream",
     "text": [
      "probability is independent\n"
     ]
    }
   ],
   "source": [
    "if p_chi>0.05:\n",
    "    print('probability is independent')\n",
    "else:\n",
    "    print('probability is dependent')"
   ]
  },
  {
   "cell_type": "code",
   "execution_count": null,
   "id": "bdd17850",
   "metadata": {},
   "outputs": [],
   "source": []
  },
  {
   "cell_type": "code",
   "execution_count": null,
   "id": "e17ae683",
   "metadata": {},
   "outputs": [],
   "source": []
  },
  {
   "cell_type": "code",
   "execution_count": null,
   "id": "f67c736b",
   "metadata": {},
   "outputs": [],
   "source": []
  },
  {
   "cell_type": "code",
   "execution_count": null,
   "id": "696d607d",
   "metadata": {},
   "outputs": [],
   "source": []
  },
  {
   "cell_type": "code",
   "execution_count": null,
   "id": "9f31124d",
   "metadata": {},
   "outputs": [],
   "source": []
  },
  {
   "cell_type": "code",
   "execution_count": null,
   "id": "19c6da51",
   "metadata": {},
   "outputs": [],
   "source": []
  },
  {
   "cell_type": "code",
   "execution_count": null,
   "id": "c5f06dbb",
   "metadata": {},
   "outputs": [],
   "source": []
  },
  {
   "cell_type": "code",
   "execution_count": null,
   "id": "ca47559e",
   "metadata": {},
   "outputs": [],
   "source": []
  }
 ],
 "metadata": {
  "kernelspec": {
   "display_name": "Python 3 (ipykernel)",
   "language": "python",
   "name": "python3"
  },
  "language_info": {
   "codemirror_mode": {
    "name": "ipython",
    "version": 3
   },
   "file_extension": ".py",
   "mimetype": "text/x-python",
   "name": "python",
   "nbconvert_exporter": "python",
   "pygments_lexer": "ipython3",
   "version": "3.11.5"
  }
 },
 "nbformat": 4,
 "nbformat_minor": 5
}
