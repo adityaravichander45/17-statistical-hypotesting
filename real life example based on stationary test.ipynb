{
 "cells": [
  {
   "cell_type": "markdown",
   "id": "266dbfb9",
   "metadata": {},
   "source": [
    "# 15-1-24"
   ]
  },
  {
   "cell_type": "markdown",
   "id": "19c89619",
   "metadata": {},
   "source": [
    "# dickey ad-fuller test"
   ]
  },
  {
   "cell_type": "code",
   "execution_count": 1,
   "id": "fc248828",
   "metadata": {},
   "outputs": [],
   "source": [
    "from statsmodels.tsa.stattools import adfuller"
   ]
  },
  {
   "cell_type": "code",
   "execution_count": 2,
   "id": "b123b5aa",
   "metadata": {},
   "outputs": [],
   "source": [
    "weather_forecast_max=[19.9,15,24.6,14.2,16.5]"
   ]
  },
  {
   "cell_type": "code",
   "execution_count": 3,
   "id": "bc7b4341",
   "metadata": {},
   "outputs": [],
   "source": [
    "stat,p,logs,obs,crit,t=adfuller(weather_forecast_max)"
   ]
  },
  {
   "cell_type": "code",
   "execution_count": 4,
   "id": "f9f53880",
   "metadata": {},
   "outputs": [
    {
     "name": "stdout",
     "output_type": "stream",
     "text": [
      "stat=-3.027,p=0.032\n"
     ]
    }
   ],
   "source": [
    "print('stat=%.3f,p=%.3f'%(stat,p))"
   ]
  },
  {
   "cell_type": "code",
   "execution_count": 5,
   "id": "53ada36f",
   "metadata": {},
   "outputs": [
    {
     "name": "stdout",
     "output_type": "stream",
     "text": [
      "probability is not stationary\n"
     ]
    }
   ],
   "source": [
    "if p>0.05:\n",
    "    print('probability is stationary')\n",
    "else:\n",
    "    print('probability is not stationary')"
   ]
  },
  {
   "cell_type": "markdown",
   "id": "132081f7",
   "metadata": {},
   "source": [
    "# kwiatowski phillips schmidt shin"
   ]
  },
  {
   "cell_type": "code",
   "execution_count": 7,
   "id": "c623fbef",
   "metadata": {},
   "outputs": [],
   "source": [
    "from statsmodels.tsa.stattools import kpss"
   ]
  },
  {
   "cell_type": "code",
   "execution_count": 8,
   "id": "1bc9c17a",
   "metadata": {},
   "outputs": [],
   "source": [
    "statP,logsP,pP,critP=kpss(weather_forecast_max)"
   ]
  },
  {
   "cell_type": "code",
   "execution_count": 10,
   "id": "7984419a",
   "metadata": {},
   "outputs": [
    {
     "name": "stdout",
     "output_type": "stream",
     "text": [
      "statP=0.500,pP=4.000\n"
     ]
    }
   ],
   "source": [
    "print('statP=%.3f,pP=%.3f'%(statP,pP))"
   ]
  },
  {
   "cell_type": "code",
   "execution_count": 11,
   "id": "f5a1f973",
   "metadata": {},
   "outputs": [
    {
     "name": "stdout",
     "output_type": "stream",
     "text": [
      "probability is stationary\n"
     ]
    }
   ],
   "source": [
    "if pP>0.05:\n",
    "    print('probability is stationary')\n",
    "else:\n",
    "    print('probability is not stationary')"
   ]
  },
  {
   "cell_type": "code",
   "execution_count": null,
   "id": "6df1241c",
   "metadata": {},
   "outputs": [],
   "source": []
  },
  {
   "cell_type": "code",
   "execution_count": null,
   "id": "4fe32296",
   "metadata": {},
   "outputs": [],
   "source": []
  },
  {
   "cell_type": "code",
   "execution_count": null,
   "id": "f3d4d9cf",
   "metadata": {},
   "outputs": [],
   "source": []
  }
 ],
 "metadata": {
  "kernelspec": {
   "display_name": "Python 3 (ipykernel)",
   "language": "python",
   "name": "python3"
  },
  "language_info": {
   "codemirror_mode": {
    "name": "ipython",
    "version": 3
   },
   "file_extension": ".py",
   "mimetype": "text/x-python",
   "name": "python",
   "nbconvert_exporter": "python",
   "pygments_lexer": "ipython3",
   "version": "3.11.5"
  }
 },
 "nbformat": 4,
 "nbformat_minor": 5
}
