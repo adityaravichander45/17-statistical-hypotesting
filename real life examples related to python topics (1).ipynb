{
 "cells": [
  {
   "cell_type": "markdown",
   "id": "a0d24bdc",
   "metadata": {},
   "source": [
    "# 11-3-24 and 12-3-24"
   ]
  },
  {
   "cell_type": "code",
   "execution_count": 37,
   "id": "324acd13",
   "metadata": {},
   "outputs": [],
   "source": [
    "J={'space','galaxy','planets','stars'}\n",
    "computer_keyboard_commands={'ctrl+X','ctrl+C','space','enter','alt+tab'}"
   ]
  },
  {
   "cell_type": "code",
   "execution_count": 38,
   "id": "2c9bf25f",
   "metadata": {},
   "outputs": [],
   "source": [
    "def function1():\n",
    "    AB=J.intersection(computer_keyboard_commands)\n",
    "    AB1=J.difference(computer_keyboard_commands)\n",
    "    AB2=J.union(computer_keyboard_commands)\n",
    "    AB3=J.symmetric_difference(computer_keyboard_commands)\n",
    "    AB4=J.isdisjoint(computer_keyboard_commands)\n",
    "    AB5=J.issubset(computer_keyboard_commands)\n",
    "    AB6=J.issuperset(computer_keyboard_commands)\n",
    "    print(AB)\n",
    "    print(AB1)\n",
    "    print(AB2)\n",
    "    print(AB3)\n",
    "    print(AB4)\n",
    "    print(AB5)\n",
    "    print(AB6)"
   ]
  },
  {
   "cell_type": "code",
   "execution_count": 39,
   "id": "9cc5fd6d",
   "metadata": {},
   "outputs": [
    {
     "name": "stdout",
     "output_type": "stream",
     "text": [
      "{'space'}\n",
      "{'stars', 'galaxy', 'planets'}\n",
      "{'ctrl+C', 'galaxy', 'stars', 'enter', 'planets', 'space', 'alt+tab', 'ctrl+X'}\n",
      "{'stars', 'ctrl+C', 'galaxy', 'enter', 'alt+tab', 'ctrl+X', 'planets'}\n",
      "False\n",
      "False\n",
      "False\n"
     ]
    }
   ],
   "source": [
    "function1()"
   ]
  },
  {
   "cell_type": "code",
   "execution_count": 40,
   "id": "7ad00a41",
   "metadata": {},
   "outputs": [],
   "source": [
    "fruits={'apple','mango','orange'}\n",
    "technologies_names={'intel','apple','microsoft'}"
   ]
  },
  {
   "cell_type": "code",
   "execution_count": 41,
   "id": "7c2ca4cb",
   "metadata": {},
   "outputs": [],
   "source": [
    "def function2():\n",
    "        TF=fruits.intersection(technologies_names)\n",
    "        TF1=fruits.difference(technologies_names)\n",
    "        TF2=fruits.union(technologies_names)\n",
    "        TF3=fruits.symmetric_difference(technologies_names)\n",
    "        TF4=fruits.isdisjoint(technologies_names)\n",
    "        TF5=fruits.issubset(technologies_names)\n",
    "        TF6=fruits.issuperset(technologies_names)\n",
    "        print(TF)\n",
    "        print(TF1)\n",
    "        print(TF2)\n",
    "        print(TF3)\n",
    "        print(TF4)\n",
    "        print(TF5)\n",
    "        print(TF6)"
   ]
  },
  {
   "cell_type": "code",
   "execution_count": 42,
   "id": "0aed804e",
   "metadata": {},
   "outputs": [
    {
     "name": "stdout",
     "output_type": "stream",
     "text": [
      "{'apple'}\n",
      "{'mango', 'orange'}\n",
      "{'apple', 'microsoft', 'intel', 'mango', 'orange'}\n",
      "{'intel', 'mango', 'microsoft', 'orange'}\n",
      "False\n",
      "False\n",
      "False\n"
     ]
    }
   ],
   "source": [
    "function2()"
   ]
  },
  {
   "cell_type": "markdown",
   "id": "b73d654e",
   "metadata": {},
   "source": [
    "# NESTED DICTIONARIES"
   ]
  },
  {
   "cell_type": "code",
   "execution_count": 51,
   "id": "656c579f",
   "metadata": {},
   "outputs": [],
   "source": [
    "def restaurant(restaurant_menu):\n",
    "    restaurant_menu={\n",
    "    'starters': {'snacks':('samosa','pakoda','paneer tikka'),\n",
    "    'soups':('tomato','Creamy Potato Soup','vegetarian soup')},\n",
    "    'main-course':{\n",
    "        'type-1':('types of roti','types of parathas','types of rice','types of biryani',' types of naan'),\n",
    "        'type-2':('cheese curry','types of veg-curry','types of daal curry','daal makhni','malai-kofta','raita')\n",
    "    },\n",
    "    'desserts':{'icecream','ras-malai','kulfi','orange-juice','apple-juice','mango-juice'}\n",
    "    }\n",
    "    return restaurant_menu"
   ]
  },
  {
   "cell_type": "code",
   "execution_count": 52,
   "id": "f3561730",
   "metadata": {},
   "outputs": [
    {
     "data": {
      "text/plain": [
       "{'starters': {'snacks': ('samosa', 'pakoda', 'paneer tikka'),\n",
       "  'soups': ('tomato', 'Creamy Potato Soup', 'vegetarian soup')},\n",
       " 'main-course': {'type-1': ('types of roti',\n",
       "   'types of parathas',\n",
       "   'types of rice',\n",
       "   'types of biryani',\n",
       "   ' types of naan'),\n",
       "  'type-2': ('cheese curry',\n",
       "   'types of veg-curry',\n",
       "   'types of daal curry',\n",
       "   'daal makhni',\n",
       "   'malai-kofta',\n",
       "   'raita')},\n",
       " 'desserts': {'apple-juice',\n",
       "  'icecream',\n",
       "  'kulfi',\n",
       "  'mango-juice',\n",
       "  'orange-juice',\n",
       "  'ras-malai'}}"
      ]
     },
     "execution_count": 52,
     "metadata": {},
     "output_type": "execute_result"
    }
   ],
   "source": [
    "restaurant(restaurant_menu)"
   ]
  },
  {
   "cell_type": "code",
   "execution_count": null,
   "id": "95c80b5e",
   "metadata": {},
   "outputs": [],
   "source": []
  },
  {
   "cell_type": "code",
   "execution_count": null,
   "id": "0edb821f",
   "metadata": {},
   "outputs": [],
   "source": []
  },
  {
   "cell_type": "code",
   "execution_count": null,
   "id": "84700626",
   "metadata": {},
   "outputs": [],
   "source": []
  },
  {
   "cell_type": "code",
   "execution_count": null,
   "id": "0239a029",
   "metadata": {},
   "outputs": [],
   "source": []
  },
  {
   "cell_type": "code",
   "execution_count": null,
   "id": "47c3f37c",
   "metadata": {},
   "outputs": [],
   "source": []
  },
  {
   "cell_type": "code",
   "execution_count": null,
   "id": "f33ebf2b",
   "metadata": {},
   "outputs": [],
   "source": []
  },
  {
   "cell_type": "code",
   "execution_count": null,
   "id": "8cbf7a11",
   "metadata": {},
   "outputs": [],
   "source": []
  },
  {
   "cell_type": "code",
   "execution_count": null,
   "id": "80354754",
   "metadata": {},
   "outputs": [],
   "source": []
  },
  {
   "cell_type": "code",
   "execution_count": null,
   "id": "6c29a036",
   "metadata": {},
   "outputs": [],
   "source": []
  },
  {
   "cell_type": "code",
   "execution_count": null,
   "id": "0612230f",
   "metadata": {},
   "outputs": [],
   "source": []
  },
  {
   "cell_type": "code",
   "execution_count": null,
   "id": "23397ec6",
   "metadata": {},
   "outputs": [],
   "source": []
  },
  {
   "cell_type": "code",
   "execution_count": null,
   "id": "a37648b7",
   "metadata": {},
   "outputs": [],
   "source": []
  },
  {
   "cell_type": "code",
   "execution_count": null,
   "id": "e368f9ee",
   "metadata": {},
   "outputs": [],
   "source": []
  },
  {
   "cell_type": "code",
   "execution_count": null,
   "id": "6dbeb31c",
   "metadata": {},
   "outputs": [],
   "source": []
  },
  {
   "cell_type": "code",
   "execution_count": null,
   "id": "26c6c209",
   "metadata": {},
   "outputs": [],
   "source": []
  },
  {
   "cell_type": "code",
   "execution_count": null,
   "id": "fbdbc3a9",
   "metadata": {},
   "outputs": [],
   "source": []
  },
  {
   "cell_type": "code",
   "execution_count": null,
   "id": "b9f6d2cd",
   "metadata": {},
   "outputs": [],
   "source": []
  },
  {
   "cell_type": "code",
   "execution_count": null,
   "id": "10ec21fa",
   "metadata": {},
   "outputs": [],
   "source": []
  },
  {
   "cell_type": "code",
   "execution_count": null,
   "id": "409f0b29",
   "metadata": {},
   "outputs": [],
   "source": []
  },
  {
   "cell_type": "code",
   "execution_count": null,
   "id": "4de6106c",
   "metadata": {},
   "outputs": [],
   "source": []
  },
  {
   "cell_type": "code",
   "execution_count": null,
   "id": "e14624d4",
   "metadata": {},
   "outputs": [],
   "source": []
  },
  {
   "cell_type": "code",
   "execution_count": null,
   "id": "277766bd",
   "metadata": {},
   "outputs": [],
   "source": []
  },
  {
   "cell_type": "code",
   "execution_count": null,
   "id": "73aa7252",
   "metadata": {},
   "outputs": [],
   "source": []
  },
  {
   "cell_type": "code",
   "execution_count": null,
   "id": "ddfe12c9",
   "metadata": {},
   "outputs": [],
   "source": []
  },
  {
   "cell_type": "code",
   "execution_count": null,
   "id": "26727f23",
   "metadata": {},
   "outputs": [],
   "source": []
  },
  {
   "cell_type": "code",
   "execution_count": null,
   "id": "11257c34",
   "metadata": {},
   "outputs": [],
   "source": []
  },
  {
   "cell_type": "code",
   "execution_count": null,
   "id": "64af6c2c",
   "metadata": {},
   "outputs": [],
   "source": []
  },
  {
   "cell_type": "code",
   "execution_count": null,
   "id": "402a2945",
   "metadata": {},
   "outputs": [],
   "source": []
  },
  {
   "cell_type": "code",
   "execution_count": null,
   "id": "93e5f6e5",
   "metadata": {},
   "outputs": [],
   "source": []
  },
  {
   "cell_type": "code",
   "execution_count": null,
   "id": "0caf179e",
   "metadata": {},
   "outputs": [],
   "source": []
  },
  {
   "cell_type": "code",
   "execution_count": null,
   "id": "8c208f87",
   "metadata": {},
   "outputs": [],
   "source": []
  },
  {
   "cell_type": "code",
   "execution_count": null,
   "id": "fc32e77a",
   "metadata": {},
   "outputs": [],
   "source": []
  },
  {
   "cell_type": "code",
   "execution_count": null,
   "id": "499d2f5c",
   "metadata": {},
   "outputs": [],
   "source": []
  },
  {
   "cell_type": "code",
   "execution_count": null,
   "id": "809a351b",
   "metadata": {},
   "outputs": [],
   "source": []
  },
  {
   "cell_type": "code",
   "execution_count": null,
   "id": "303fea07",
   "metadata": {},
   "outputs": [],
   "source": []
  },
  {
   "cell_type": "code",
   "execution_count": null,
   "id": "2580248c",
   "metadata": {},
   "outputs": [],
   "source": []
  },
  {
   "cell_type": "code",
   "execution_count": null,
   "id": "bde383c2",
   "metadata": {},
   "outputs": [],
   "source": []
  },
  {
   "cell_type": "code",
   "execution_count": null,
   "id": "4f67536a",
   "metadata": {},
   "outputs": [],
   "source": []
  },
  {
   "cell_type": "code",
   "execution_count": null,
   "id": "3a6f3754",
   "metadata": {},
   "outputs": [],
   "source": []
  },
  {
   "cell_type": "code",
   "execution_count": null,
   "id": "49900d18",
   "metadata": {},
   "outputs": [],
   "source": []
  },
  {
   "cell_type": "code",
   "execution_count": null,
   "id": "8717be61",
   "metadata": {},
   "outputs": [],
   "source": []
  },
  {
   "cell_type": "code",
   "execution_count": null,
   "id": "e81d3a67",
   "metadata": {},
   "outputs": [],
   "source": []
  },
  {
   "cell_type": "code",
   "execution_count": null,
   "id": "97ad331b",
   "metadata": {},
   "outputs": [],
   "source": []
  },
  {
   "cell_type": "code",
   "execution_count": null,
   "id": "2fb4a684",
   "metadata": {},
   "outputs": [],
   "source": []
  },
  {
   "cell_type": "code",
   "execution_count": null,
   "id": "9e29ebdc",
   "metadata": {},
   "outputs": [],
   "source": []
  },
  {
   "cell_type": "code",
   "execution_count": null,
   "id": "75695be4",
   "metadata": {},
   "outputs": [],
   "source": []
  },
  {
   "cell_type": "code",
   "execution_count": null,
   "id": "d5a73cce",
   "metadata": {},
   "outputs": [],
   "source": []
  },
  {
   "cell_type": "code",
   "execution_count": null,
   "id": "9c45196e",
   "metadata": {},
   "outputs": [],
   "source": []
  }
 ],
 "metadata": {
  "kernelspec": {
   "display_name": "Python 3 (ipykernel)",
   "language": "python",
   "name": "python3"
  },
  "language_info": {
   "codemirror_mode": {
    "name": "ipython",
    "version": 3
   },
   "file_extension": ".py",
   "mimetype": "text/x-python",
   "name": "python",
   "nbconvert_exporter": "python",
   "pygments_lexer": "ipython3",
   "version": "3.11.5"
  }
 },
 "nbformat": 4,
 "nbformat_minor": 5
}
